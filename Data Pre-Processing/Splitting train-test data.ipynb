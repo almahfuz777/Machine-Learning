{
 "cells": [
  {
   "cell_type": "code",
   "execution_count": 1,
   "metadata": {},
   "outputs": [],
   "source": [
    "import pandas as pd\n",
    "df = pd.read_csv('../Datasets/diabetes_two.csv')"
   ]
  },
  {
   "cell_type": "markdown",
   "metadata": {},
   "source": [
    "<h1><b><font color=\"lime\">\n",
    "Splitting data between Train and Test</b></h1>"
   ]
  },
  {
   "cell_type": "code",
   "execution_count": 4,
   "metadata": {},
   "outputs": [],
   "source": [
    "from sklearn.model_selection import train_test_split"
   ]
  },
  {
   "cell_type": "code",
   "execution_count": 2,
   "metadata": {},
   "outputs": [],
   "source": [
    "X = df.drop(columns=['class'])\n",
    "y = df['class']"
   ]
  },
  {
   "cell_type": "code",
   "execution_count": 5,
   "metadata": {},
   "outputs": [],
   "source": [
    "X_train, X_test, y_train, y_test = train_test_split(X,y, test_size=.20)\n",
    "#random 20% data for testing and rest for training\n",
    "#X_train = features of training data\n",
    "#y_train = target of training data"
   ]
  },
  {
   "cell_type": "code",
   "execution_count": 6,
   "metadata": {},
   "outputs": [
    {
     "name": "stdout",
     "output_type": "stream",
     "text": [
      "<class 'pandas.core.frame.DataFrame'>\n",
      "Index: 416 entries, 207 to 244\n",
      "Data columns (total 16 columns):\n",
      " #   Column              Non-Null Count  Dtype  \n",
      "---  ------              --------------  -----  \n",
      " 0   Age                 415 non-null    float64\n",
      " 1   Gender              415 non-null    object \n",
      " 2   Polyuria            416 non-null    object \n",
      " 3   Polydipsia          416 non-null    object \n",
      " 4   sudden weight loss  416 non-null    object \n",
      " 5   weakness            415 non-null    object \n",
      " 6   Polyphagia          416 non-null    object \n",
      " 7   Genital thrush      416 non-null    object \n",
      " 8   visual blurring     416 non-null    object \n",
      " 9   Itching             416 non-null    object \n",
      " 10  Irritability        416 non-null    object \n",
      " 11  delayed healing     416 non-null    object \n",
      " 12  partial paresis     416 non-null    object \n",
      " 13  muscle stiffness    416 non-null    object \n",
      " 14  Alopecia            416 non-null    object \n",
      " 15  Obesity             416 non-null    object \n",
      "dtypes: float64(1), object(15)\n",
      "memory usage: 55.2+ KB\n"
     ]
    }
   ],
   "source": [
    "X_train.info()"
   ]
  },
  {
   "cell_type": "code",
   "execution_count": 7,
   "metadata": {},
   "outputs": [
    {
     "name": "stdout",
     "output_type": "stream",
     "text": [
      "<class 'pandas.core.series.Series'>\n",
      "Index: 416 entries, 207 to 244\n",
      "Series name: class\n",
      "Non-Null Count  Dtype \n",
      "--------------  ----- \n",
      "416 non-null    object\n",
      "dtypes: object(1)\n",
      "memory usage: 6.5+ KB\n"
     ]
    }
   ],
   "source": [
    "y_train.info()"
   ]
  },
  {
   "cell_type": "code",
   "execution_count": 8,
   "metadata": {},
   "outputs": [
    {
     "name": "stdout",
     "output_type": "stream",
     "text": [
      "train data size(feature): 416\n",
      "train data size(target): 416\n",
      "test data size(feature): 104\n",
      "test data size(target): 104\n"
     ]
    }
   ],
   "source": [
    "print(\"train data size(feature):\", len(X_train))\n",
    "print(\"train data size(target):\", len(y_train))\n",
    "\n",
    "print(\"test data size(feature):\", len(X_test))\n",
    "print(\"test data size(target):\", len(y_test))"
   ]
  },
  {
   "cell_type": "code",
   "execution_count": null,
   "metadata": {},
   "outputs": [],
   "source": []
  }
 ],
 "metadata": {
  "kernelspec": {
   "display_name": "Python 3",
   "language": "python",
   "name": "python3"
  },
  "language_info": {
   "codemirror_mode": {
    "name": "ipython",
    "version": 3
   },
   "file_extension": ".py",
   "mimetype": "text/x-python",
   "name": "python",
   "nbconvert_exporter": "python",
   "pygments_lexer": "ipython3",
   "version": "3.12.0"
  }
 },
 "nbformat": 4,
 "nbformat_minor": 2
}
