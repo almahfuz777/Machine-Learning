{
 "cells": [
  {
   "cell_type": "markdown",
   "metadata": {},
   "source": [
    "<font color=\"orange\"><h1><b>Required pre-processing before scaling\n",
    "</font></h1></b>\n",
    "(i) handling missing value <br>\n",
    "(ii) data encoding"
   ]
  },
  {
   "cell_type": "code",
   "execution_count": 1,
   "metadata": {},
   "outputs": [],
   "source": [
    "import pandas as pd\n",
    "df = pd.read_csv('../Datasets/diabetes_two.csv')"
   ]
  },
  {
   "cell_type": "code",
   "execution_count": 4,
   "metadata": {},
   "outputs": [
    {
     "data": {
      "text/plain": [
       "Age                   1\n",
       "Gender                1\n",
       "Polyuria              0\n",
       "Polydipsia            0\n",
       "sudden weight loss    0\n",
       "weakness              1\n",
       "Polyphagia            0\n",
       "Genital thrush        0\n",
       "visual blurring       0\n",
       "Itching               0\n",
       "Irritability          0\n",
       "delayed healing       0\n",
       "partial paresis       0\n",
       "muscle stiffness      0\n",
       "Alopecia              0\n",
       "Obesity               0\n",
       "class                 0\n",
       "dtype: int64"
      ]
     },
     "execution_count": 4,
     "metadata": {},
     "output_type": "execute_result"
    }
   ],
   "source": [
    "#dropping rows with missing value\n",
    "df.isnull().sum()"
   ]
  },
  {
   "cell_type": "code",
   "execution_count": 5,
   "metadata": {},
   "outputs": [],
   "source": [
    "#dropping the rows containing null cells\n",
    "df.dropna(subset=['Age'], inplace=True)\n",
    "df.dropna(subset=['Gender'], inplace=True)\n",
    "df.dropna(subset=['weakness'], inplace=True)"
   ]
  },
  {
   "cell_type": "code",
   "execution_count": 6,
   "metadata": {},
   "outputs": [],
   "source": [
    "from sklearn.preprocessing import LabelEncoder\n",
    "le = LabelEncoder()"
   ]
  },
  {
   "cell_type": "code",
   "execution_count": 7,
   "metadata": {},
   "outputs": [],
   "source": [
    "# label encoding\n",
    "df['Gender'] = le.fit_transform(df['Gender'])\n",
    "df['Polyuria'] = le.fit_transform(df['Polyuria'])\n",
    "df['Polydipsia'] = le.fit_transform(df['Polydipsia'])\n",
    "df['sudden weight loss'] = le.fit_transform(df['sudden weight loss'])\n",
    "df['weakness'] = le.fit_transform(df['weakness'])\n",
    "df['Polyphagia'] = le.fit_transform(df['Polyphagia'])\n",
    "df['Genital thrush'] = le.fit_transform(df['Genital thrush'])\n",
    "df['visual blurring'] = le.fit_transform(df['visual blurring'])\n",
    "df['Itching'] = le.fit_transform(df['Itching'])\n",
    "df['Irritability'] = le.fit_transform(df['Irritability'])\n",
    "df['delayed healing'] = le.fit_transform(df['delayed healing'])\n",
    "df['partial paresis'] = le.fit_transform(df['partial paresis'])\n",
    "df['muscle stiffness'] = le.fit_transform(df['muscle stiffness'])\n",
    "df['Alopecia'] = le.fit_transform(df['Alopecia'])\n",
    "df['Obesity'] = le.fit_transform(df['Obesity'])\n",
    "df['class'] = le.fit_transform(df['class'])"
   ]
  },
  {
   "cell_type": "markdown",
   "metadata": {},
   "source": [
    "<font color=\"orange\"><h1><b>Scaling Data</font></h1></b>\n",
    "<font color=\"yellow\">\n",
    "Transforming the values of the dataset within a specific range <br>\n",
    "*only for features *<br></font>\n",
    "(i) MinMax Scaling <br>\n",
    "(ii) Standard Scaling"
   ]
  },
  {
   "cell_type": "code",
   "execution_count": 2,
   "metadata": {},
   "outputs": [],
   "source": [
    "from sklearn.preprocessing import MinMaxScaler\n",
    "from sklearn.preprocessing import StandardScaler"
   ]
  },
  {
   "cell_type": "code",
   "execution_count": 10,
   "metadata": {},
   "outputs": [],
   "source": [
    "#separating feature and target\n",
    "X = df.drop(columns=['class'])\n",
    "y = df['class']"
   ]
  },
  {
   "cell_type": "code",
   "execution_count": 11,
   "metadata": {},
   "outputs": [
    {
     "data": {
      "text/plain": [
       "array([[0.04109589, 1.        , 0.        , ..., 1.        , 1.        ,\n",
       "        1.        ],\n",
       "       [0.07191781, 1.        , 0.        , ..., 0.        , 1.        ,\n",
       "        0.        ],\n",
       "       [0.04965753, 1.        , 0.        , ..., 0.        , 0.        ,\n",
       "        0.        ],\n",
       "       ...,\n",
       "       [0.07191781, 0.        , 1.        , ..., 1.        , 0.        ,\n",
       "        1.        ],\n",
       "       [0.02739726, 0.        , 0.        , ..., 0.        , 1.        ,\n",
       "        0.        ],\n",
       "       [0.04452055, 1.        , 0.        , ..., 0.        , 0.        ,\n",
       "        0.        ]])"
      ]
     },
     "execution_count": 11,
     "metadata": {},
     "output_type": "execute_result"
    }
   ],
   "source": [
    "# MinMax Scaling\n",
    "scaler1 = MinMaxScaler()\n",
    "MinMax_scaled_df = scaler1.fit_transform(X) #min-max scaling (0 to 1)\n",
    "MinMax_scaled_df"
   ]
  },
  {
   "cell_type": "code",
   "execution_count": 12,
   "metadata": {},
   "outputs": [
    {
     "data": {
      "text/plain": [
       "array([[-0.33592487,  0.76861514, -0.98655078, ...,  1.29566835,\n",
       "         1.39194109,  2.20794022],\n",
       "       [ 0.32765332,  0.76861514, -0.98655078, ..., -0.77180244,\n",
       "         1.39194109, -0.45291081],\n",
       "       [-0.1515976 ,  0.76861514, -0.98655078, ..., -0.77180244,\n",
       "        -0.71842121, -0.45291081],\n",
       "       ...,\n",
       "       [ 0.32765332, -1.30104125,  1.01363257, ...,  1.29566835,\n",
       "        -0.71842121,  2.20794022],\n",
       "       [-0.63084851, -1.30104125, -0.98655078, ..., -0.77180244,\n",
       "         1.39194109, -0.45291081],\n",
       "       [-0.26219396,  0.76861514, -0.98655078, ..., -0.77180244,\n",
       "        -0.71842121, -0.45291081]])"
      ]
     },
     "execution_count": 12,
     "metadata": {},
     "output_type": "execute_result"
    }
   ],
   "source": [
    "# Standard Scaling\n",
    "scaler2 = StandardScaler()\n",
    "STD_scaled_df = scaler2.fit_transform(X)\n",
    "STD_scaled_df"
   ]
  },
  {
   "cell_type": "code",
   "execution_count": null,
   "metadata": {},
   "outputs": [],
   "source": []
  }
 ],
 "metadata": {
  "kernelspec": {
   "display_name": "Python 3",
   "language": "python",
   "name": "python3"
  },
  "language_info": {
   "codemirror_mode": {
    "name": "ipython",
    "version": 3
   },
   "file_extension": ".py",
   "mimetype": "text/x-python",
   "name": "python",
   "nbconvert_exporter": "python",
   "pygments_lexer": "ipython3",
   "version": "3.12.0"
  }
 },
 "nbformat": 4,
 "nbformat_minor": 2
}
